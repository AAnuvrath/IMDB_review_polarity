{
 "cells": [
  {
   "cell_type": "markdown",
   "id": "744e939d",
   "metadata": {},
   "source": [
    "<p style=\"font-size:36px;text-align:center\"> <b>IMDB review classifier</b> </p>"
   ]
  },
  {
   "cell_type": "markdown",
   "id": "8a01d260",
   "metadata": {},
   "source": [
    "<h1>2. Exploratory Data Analysis</h1>"
   ]
  },
  {
   "cell_type": "code",
   "execution_count": 1,
   "id": "93a87064",
   "metadata": {},
   "outputs": [],
   "source": [
    "%matplotlib inline\n",
    "import warnings\n",
    "warnings.filterwarnings(\"ignore\")\n",
    "\n",
    "import pandas as pd\n",
    "import numpy as np\n",
    "import matplotlib.pyplot as plt\n",
    "import seaborn as sns\n",
    "from sklearn.feature_extraction.text import TfidfVectorizer\n",
    "from sklearn import metrics\n",
    "from sklearn.model_selection import train_test_split\n",
    "\n",
    "import re\n",
    "from tqdm import tqdm\n",
    "import os\n",
    "\n",
    "from random import randint\n",
    "from sklearn.metrics import accuracy_score\n",
    "from sklearn.metrics import precision_score\n",
    "from sklearn.metrics import recall_score\n",
    "from sklearn.metrics import f1_score\n",
    "\n",
    "from nltk.sentiment.vader import SentimentIntensityAnalyzer\n",
    "from scipy.sparse import hstack\n",
    "from prettytable import PrettyTable\n",
    "\n",
    "from sklearn.model_selection import RandomizedSearchCV\n",
    "from sklearn.linear_model import LogisticRegression\n",
    "from sklearn import svm\n",
    "from sklearn.ensemble import RandomForestClassifier"
   ]
  },
  {
   "cell_type": "code",
   "execution_count": 2,
   "id": "a20c3278",
   "metadata": {},
   "outputs": [
    {
     "name": "stderr",
     "output_type": "stream",
     "text": [
      "100%|██████████████████████████████████████████████████████████████████████████| 1000/1000 [00:00<00:00, 499381.35it/s]\n"
     ]
    }
   ],
   "source": [
    "# unpacking the data from txt file to list\n",
    "reviews = []\n",
    "rating = []\n",
    "f = open(\"imdb_labelled.txt\", \"r\")\n",
    "all_data = f.read().split(\"\\n\")\n",
    "for data in tqdm(all_data):\n",
    "    row = data.split(\"\\t\")\n",
    "    reviews.append(row[0].strip())\n",
    "    rating.append(int(row[1]))"
   ]
  },
  {
   "cell_type": "code",
   "execution_count": 3,
   "id": "f6066585",
   "metadata": {},
   "outputs": [
    {
     "name": "stdout",
     "output_type": "stream",
     "text": [
      "Train data set size is:  1000\n",
      "----------------------------------------------------------------------------------------------------\n"
     ]
    },
    {
     "data": {
      "text/html": [
       "<div>\n",
       "<style scoped>\n",
       "    .dataframe tbody tr th:only-of-type {\n",
       "        vertical-align: middle;\n",
       "    }\n",
       "\n",
       "    .dataframe tbody tr th {\n",
       "        vertical-align: top;\n",
       "    }\n",
       "\n",
       "    .dataframe thead th {\n",
       "        text-align: right;\n",
       "    }\n",
       "</style>\n",
       "<table border=\"1\" class=\"dataframe\">\n",
       "  <thead>\n",
       "    <tr style=\"text-align: right;\">\n",
       "      <th></th>\n",
       "      <th>Reviews</th>\n",
       "      <th>Rating</th>\n",
       "    </tr>\n",
       "  </thead>\n",
       "  <tbody>\n",
       "    <tr>\n",
       "      <th>0</th>\n",
       "      <td>A very, very, very slow-moving, aimless movie ...</td>\n",
       "      <td>0</td>\n",
       "    </tr>\n",
       "    <tr>\n",
       "      <th>1</th>\n",
       "      <td>Not sure who was more lost - the flat characte...</td>\n",
       "      <td>0</td>\n",
       "    </tr>\n",
       "    <tr>\n",
       "      <th>2</th>\n",
       "      <td>Attempting artiness with black &amp; white and cle...</td>\n",
       "      <td>0</td>\n",
       "    </tr>\n",
       "    <tr>\n",
       "      <th>3</th>\n",
       "      <td>Very little music or anything to speak of.</td>\n",
       "      <td>0</td>\n",
       "    </tr>\n",
       "    <tr>\n",
       "      <th>4</th>\n",
       "      <td>The best scene in the movie was when Gerardo i...</td>\n",
       "      <td>1</td>\n",
       "    </tr>\n",
       "  </tbody>\n",
       "</table>\n",
       "</div>"
      ],
      "text/plain": [
       "                                             Reviews  Rating\n",
       "0  A very, very, very slow-moving, aimless movie ...       0\n",
       "1  Not sure who was more lost - the flat characte...       0\n",
       "2  Attempting artiness with black & white and cle...       0\n",
       "3         Very little music or anything to speak of.       0\n",
       "4  The best scene in the movie was when Gerardo i...       1"
      ]
     },
     "execution_count": 3,
     "metadata": {},
     "output_type": "execute_result"
    }
   ],
   "source": [
    "# Creating a dataframe containg reviews and rating\n",
    "all_train = pd.DataFrame(list(zip(reviews, rating)), columns =['Reviews', 'Rating'])\n",
    "print(\"Train data set size is: \", all_train.shape[0])\n",
    "print(100*'-')\n",
    "all_train.head()"
   ]
  },
  {
   "cell_type": "code",
   "execution_count": 4,
   "id": "5b1569f6",
   "metadata": {
    "scrolled": true
   },
   "outputs": [],
   "source": [
    "#checking duplicate rows\n",
    "#train[train.duplicated(keep = False)] "
   ]
  },
  {
   "cell_type": "code",
   "execution_count": 5,
   "id": "8580b5b9",
   "metadata": {},
   "outputs": [
    {
     "name": "stdout",
     "output_type": "stream",
     "text": [
      "Data remaining after removing dulicate rows:  99.7 %\n"
     ]
    }
   ],
   "source": [
    "train=all_train.drop_duplicates(subset={\"Reviews\"}, keep='first', inplace=False) #dropping duplicate data points\n",
    "#Checking to see how much % of data still remains\n",
    "print(\"Data remaining after removing dulicate rows: \",(train['Rating'].size)/(all_train['Rating'].size)*100,\"%\")"
   ]
  },
  {
   "cell_type": "code",
   "execution_count": 6,
   "id": "be6230c1",
   "metadata": {},
   "outputs": [
    {
     "data": {
      "text/plain": [
       "Text(0.5, 1.0, 'Distribution of data points')"
      ]
     },
     "execution_count": 6,
     "metadata": {},
     "output_type": "execute_result"
    },
    {
     "data": {
      "image/png": "[encoded data removed]",
      "text/plain": [
       "<Figure size 432x288 with 1 Axes>"
      ]
     },
     "metadata": {},
     "output_type": "display_data"
    }
   ],
   "source": [
    "sns.set_theme(style=\"whitegrid\")\n",
    "sns.countplot(y = train.Rating)\n",
    "plt.title('Distribution of data points')"
   ]
  },
  {
   "cell_type": "markdown",
   "id": "3c009c2a",
   "metadata": {},
   "source": [
    "<h1>3. Pre-Processing data</h1>"
   ]
  },
  {
   "cell_type": "code",
   "execution_count": 7,
   "id": "5a982fac",
   "metadata": {},
   "outputs": [],
   "source": [
    "stopwords= set(['br', 'the', 'i', 'me', 'my', 'myself', 'we', 'our', 'ours', 'ourselves', 'you', \"you're\", \"you've\",\\\n",
    "            \"you'll\", \"you'd\", 'your', 'yours', 'yourself', 'yourselves', 'he', 'him', 'his', 'himself', \\\n",
    "            'she', \"she's\", 'her', 'hers', 'herself', 'it', \"it's\", 'its', 'itself', 'they', 'them', 'their',\\\n",
    "            'theirs', 'themselves', 'what', 'which', 'who', 'whom', 'this', 'that', \"that'll\", 'these', 'those', \\\n",
    "            'am', 'is', 'are', 'was', 'were', 'be', 'been', 'being', 'have', 'has', 'had', 'having', 'do', 'does', \\\n",
    "            'did', 'doing', 'a', 'an', 'the', 'and', 'but', 'if', 'or', 'because', 'as', 'until', 'while', 'of', \\\n",
    "            'at', 'by', 'for', 'with', 'about', 'against', 'between', 'into', 'through', 'during', 'before', 'after',\\\n",
    "            'above', 'below', 'to', 'from', 'up', 'down', 'in', 'out', 'on', 'off', 'over', 'under', 'again', 'further',\\\n",
    "            'then', 'once', 'here', 'there', 'when', 'where', 'why', 'how', 'all', 'any', 'both', 'each', 'few', 'more',\\\n",
    "            'most', 'other', 'some', 'such', 'only', 'own', 'same', 'so', 'than', 'too', 'very', \\\n",
    "            's', 't', 'can', 'will', 'just', 'don', \"don't\", 'should', \"should've\", 'now', 'd', 'll', 'm', 'o', 're', \\\n",
    "            've', 'y', 'ain', 'aren', \"aren't\", 'couldn', \"couldn't\", 'didn', \"didn't\", 'doesn', \"doesn't\", 'hadn',\\\n",
    "            \"hadn't\", 'hasn', \"hasn't\", 'haven', \"haven't\", 'isn', \"isn't\", 'ma', 'mightn', \"mightn't\", 'mustn',\\\n",
    "            \"mustn't\", 'needn', \"needn't\", 'shan', \"shan't\", 'shouldn', \"shouldn't\", 'wasn', \"wasn't\", 'weren', \"weren't\", \\\n",
    "            'won', \"won't\", 'wouldn', \"wouldn't\"])"
   ]
  },
  {
   "cell_type": "code",
   "execution_count": 8,
   "id": "4720fb77",
   "metadata": {},
   "outputs": [],
   "source": [
    "# fucntion dealing with punctuations\n",
    "def decontracted(phrase):\n",
    "    # specific\n",
    "    phrase = re.sub(r\"won't\", \"will not\", phrase)\n",
    "    phrase = re.sub(r\"can\\'t\", \"can not\", phrase)\n",
    "    \n",
    "    # general\n",
    "    phrase = re.sub(r\"n\\'t\", \" not\", phrase)\n",
    "    phrase = re.sub(r\"\\'re\", \" are\", phrase)\n",
    "    phrase = re.sub(r\"\\'s\", \" is\", phrase)\n",
    "    phrase = re.sub(r\"\\'d\", \" would\", phrase)\n",
    "    phrase = re.sub(r\"\\'ll\", \" will\", phrase)\n",
    "    phrase = re.sub(r\"\\'t\", \" not\", phrase)\n",
    "    phrase = re.sub(r\"\\'ve\", \" have\", phrase)\n",
    "    phrase = re.sub(r\"\\'m\", \" am\", phrase)\n",
    "    return phrase"
   ]
  },
  {
   "cell_type": "code",
   "execution_count": 9,
   "id": "4f5bd376",
   "metadata": {},
   "outputs": [
    {
     "name": "stderr",
     "output_type": "stream",
     "text": [
      "100%|█████████████████████████████████████████████████████████████████████████████| 997/997 [00:00<00:00, 31132.53it/s]\n"
     ]
    }
   ],
   "source": [
    "# Combining above \n",
    "preprocessed_reviews = []\n",
    "for sentance in tqdm(train['Reviews'].values):\n",
    "    sentance = decontracted(sentance)        #puncuation\n",
    "    sentance = re.sub('[^A-Za-z1-10]+', ' ', sentance) #special characteristics\n",
    "    sentance = ' '.join(w.lower() for w in sentance.split() if w.lower() not in stopwords)  #stop words and lower case\n",
    "    preprocessed_reviews.append(sentance.strip())"
   ]
  },
  {
   "cell_type": "code",
   "execution_count": 10,
   "id": "932c69fb",
   "metadata": {
    "scrolled": true
   },
   "outputs": [
    {
     "name": "stdout",
     "output_type": "stream",
     "text": [
      "Train data set size is:  997\n"
     ]
    }
   ],
   "source": [
    "preprocessed_train = pd.DataFrame(list(zip(preprocessed_reviews, rating)), columns =['Preprocessed_Reviews', 'Rating'])\n",
    "print(\"Train data set size is: \", preprocessed_train.shape[0])"
   ]
  },
  {
   "cell_type": "code",
   "execution_count": 11,
   "id": "3e42c28d",
   "metadata": {},
   "outputs": [
    {
     "data": {
      "text/html": [
       "<div>\n",
       "<style scoped>\n",
       "    .dataframe tbody tr th:only-of-type {\n",
       "        vertical-align: middle;\n",
       "    }\n",
       "\n",
       "    .dataframe tbody tr th {\n",
       "        vertical-align: top;\n",
       "    }\n",
       "\n",
       "    .dataframe thead th {\n",
       "        text-align: right;\n",
       "    }\n",
       "</style>\n",
       "<table border=\"1\" class=\"dataframe\">\n",
       "  <thead>\n",
       "    <tr style=\"text-align: right;\">\n",
       "      <th></th>\n",
       "      <th>Preprocessed_Reviews</th>\n",
       "    </tr>\n",
       "  </thead>\n",
       "  <tbody>\n",
       "    <tr>\n",
       "      <th>0</th>\n",
       "      <td>slow moving aimless movie distressed drifting ...</td>\n",
       "    </tr>\n",
       "    <tr>\n",
       "      <th>1</th>\n",
       "      <td>not sure lost flat characters audience nearly ...</td>\n",
       "    </tr>\n",
       "    <tr>\n",
       "      <th>2</th>\n",
       "      <td>attempting artiness black white clever camera ...</td>\n",
       "    </tr>\n",
       "    <tr>\n",
       "      <th>3</th>\n",
       "      <td>little music anything speak</td>\n",
       "    </tr>\n",
       "    <tr>\n",
       "      <th>4</th>\n",
       "      <td>best scene movie gerardo trying find song keep...</td>\n",
       "    </tr>\n",
       "  </tbody>\n",
       "</table>\n",
       "</div>"
      ],
      "text/plain": [
       "                                Preprocessed_Reviews\n",
       "0  slow moving aimless movie distressed drifting ...\n",
       "1  not sure lost flat characters audience nearly ...\n",
       "2  attempting artiness black white clever camera ...\n",
       "3                        little music anything speak\n",
       "4  best scene movie gerardo trying find song keep..."
      ]
     },
     "execution_count": 11,
     "metadata": {},
     "output_type": "execute_result"
    }
   ],
   "source": [
    "y = preprocessed_train['Rating'].values\n",
    "X = preprocessed_train.drop(['Rating'], axis=1)\n",
    "X.head(5)"
   ]
  },
  {
   "cell_type": "code",
   "execution_count": 12,
   "id": "b48b7af9",
   "metadata": {},
   "outputs": [],
   "source": [
    "X_train, X_test, y_train, y_test = train_test_split(X, y, test_size=0.15, stratify=y)"
   ]
  },
  {
   "cell_type": "markdown",
   "id": "755e8467",
   "metadata": {},
   "source": [
    "<h2>3.1. Feature enginering</h2>"
   ]
  },
  {
   "cell_type": "code",
   "execution_count": 13,
   "id": "78c74c90",
   "metadata": {},
   "outputs": [
    {
     "name": "stdout",
     "output_type": "stream",
     "text": [
      "After vectorizations\n",
      "(847, 4) (847,)\n",
      "(150, 4) (150,)\n",
      "====================================================================================================\n"
     ]
    }
   ],
   "source": [
    "sentiScoresTrainList=[]\n",
    "sentiScoresTestList=[]\n",
    "sid = SentimentIntensityAnalyzer()\n",
    "for sentence in X_train['Preprocessed_Reviews'].values:\n",
    "    sentiScores = sid.polarity_scores(sentence)\n",
    "    sentiScoresTrainList.append(list(sentiScores.values()))\n",
    "\n",
    "for sentence in X_test['Preprocessed_Reviews'].values:\n",
    "    sentiScores = sid.polarity_scores(sentence)\n",
    "    sentiScoresTestList.append(list(sentiScores.values()))\n",
    "    \n",
    "X_train_sentiscores = np.array(sentiScoresTrainList)\n",
    "X_test_sentiscores = np.array(sentiScoresTestList)\n",
    "\n",
    "print(\"After vectorizations\")\n",
    "print(X_train_sentiscores.shape, y_train.shape)\n",
    "print(X_test_sentiscores.shape, y_test.shape)\n",
    "print(\"=\"*100)"
   ]
  },
  {
   "cell_type": "code",
   "execution_count": 14,
   "id": "a032debb",
   "metadata": {},
   "outputs": [
    {
     "name": "stdout",
     "output_type": "stream",
     "text": [
      "(847, 1) (847,)\n",
      "(150, 1) (150,)\n",
      "====================================================================================================\n",
      "After vectorizations\n",
      "(847, 576) (847,)\n",
      "(150, 576) (150,)\n",
      "====================================================================================================\n",
      "NOTE: THE NUMBER OF COLUMNS IN EACH OF THE VECTOR WONT BE SAME\n"
     ]
    }
   ],
   "source": [
    "# Apply TF-IDF vectorization on 'Preprocessed_Essay' \n",
    "print(X_train.shape, y_train.shape)\n",
    "print(X_test.shape, y_test.shape)\n",
    "\n",
    "print(\"=\"*100)\n",
    "\n",
    "\n",
    "vectorizer_tfidf = TfidfVectorizer(min_df=3,ngram_range=(1,3))\n",
    "vectorizer_tfidf.fit(X_train['Preprocessed_Reviews'].values) # fit has to happen only on train data\n",
    "\n",
    "# we use the fitted CountVectorizer to convert the text to vector\n",
    "X_train_tfidf = vectorizer_tfidf.transform(X_train['Preprocessed_Reviews'].values)\n",
    "X_test_tfidf = vectorizer_tfidf.transform(X_test['Preprocessed_Reviews'].values)\n",
    "\n",
    "print(\"After vectorizations\")\n",
    "print(X_train_tfidf.shape, y_train.shape)\n",
    "print(X_test_tfidf.shape, y_test.shape)\n",
    "print(\"=\"*100)\n",
    "\n",
    "print(\"NOTE: THE NUMBER OF COLUMNS IN EACH OF THE VECTOR WONT BE SAME\")"
   ]
  },
  {
   "cell_type": "code",
   "execution_count": 15,
   "id": "e28a846e",
   "metadata": {},
   "outputs": [
    {
     "name": "stdout",
     "output_type": "stream",
     "text": [
      "Final Data matrix\n",
      "(847, 580) (847,)\n",
      "(150, 580) (150,)\n",
      "====================================================================================================\n"
     ]
    }
   ],
   "source": [
    "#Joining all the features\n",
    "X_tr_tfidf=hstack((X_train_sentiscores, X_train_tfidf)).tocsr()\n",
    "X_te_tfidf = hstack((X_test_sentiscores, X_test_tfidf)).tocsr()\n",
    "\n",
    "\n",
    "print(\"Final Data matrix\")\n",
    "print(X_tr_tfidf.shape, y_train.shape)\n",
    "print(X_te_tfidf.shape, y_test.shape)\n",
    "print(\"=\"*100)"
   ]
  },
  {
   "cell_type": "markdown",
   "id": "329e00ae",
   "metadata": {},
   "source": [
    "<h1>4. Machine Learning Models</h1>"
   ]
  },
  {
   "cell_type": "markdown",
   "id": "d1825693",
   "metadata": {},
   "source": [
    "<h2>4.1. Random model</h2>"
   ]
  },
  {
   "cell_type": "code",
   "execution_count": 16,
   "id": "967f28a9",
   "metadata": {},
   "outputs": [
    {
     "name": "stderr",
     "output_type": "stream",
     "text": [
      "100%|████████████████████████████████████████████████████████████████████████████| 150/150 [00:00<00:00, 150189.93it/s]\n",
      "100%|████████████████████████████████████████████████████████████████████████████| 847/847 [00:00<00:00, 424137.47it/s]\n"
     ]
    }
   ],
   "source": [
    "y_test_rand=[]\n",
    "for i in tqdm(range(0,150)):\n",
    "    y_test_rand.append(randint(0, 1))\n",
    "    \n",
    "y_train_rand=[]\n",
    "for i in tqdm(range(0,847)):\n",
    "    y_train_rand.append(randint(0, 1))"
   ]
  },
  {
   "cell_type": "code",
   "execution_count": 17,
   "id": "2d21e1f4",
   "metadata": {},
   "outputs": [
    {
     "name": "stdout",
     "output_type": "stream",
     "text": [
      "Train accuracy for a random model is:  0.4722550177095632\n",
      "Test accuracy for a random model is:  0.5\n",
      "Train f1 score for a random model is:  0.4697508896797153\n",
      "Test f1 score for a random model is:  0.5161290322580646\n"
     ]
    }
   ],
   "source": [
    "print(\"Train accuracy for a random model is: \",accuracy_score(y_train, y_train_rand))\n",
    "print(\"Test accuracy for a random model is: \",accuracy_score(y_test, y_test_rand))\n",
    "print(\"Train f1 score for a random model is: \",f1_score(y_train, y_train_rand))\n",
    "print(\"Test f1 score for a random model is: \",f1_score(y_test, y_test_rand))"
   ]
  },
  {
   "cell_type": "markdown",
   "id": "a7822fa1",
   "metadata": {},
   "source": [
    "<h2>4.2. Logistic regression</h2>"
   ]
  },
  {
   "cell_type": "code",
   "execution_count": 18,
   "id": "40670676",
   "metadata": {},
   "outputs": [
    {
     "name": "stdout",
     "output_type": "stream",
     "text": [
      "{'C': 1}\n"
     ]
    }
   ],
   "source": [
    "# Perform Hyperparameter Tuning.\n",
    "# Plot the training and the CV AUC scores, for different values of 'alpha', using a 2D line plot\n",
    "probs = LogisticRegression(random_state=42)\n",
    "\n",
    "parameters = {'C': [ 0.001, 0.05, 0.01, 0.1, 0.5, 1, 5, 10, 50, 100,500,1000]}\n",
    "clf = RandomizedSearchCV(probs, parameters, cv=3, scoring='accuracy',return_train_score=True,random_state=42)\n",
    "clf.fit(X_tr_tfidf, y_train)\n",
    "results = pd.DataFrame.from_dict(clf.cv_results_)\n",
    "print(clf.best_params_)"
   ]
  },
  {
   "cell_type": "code",
   "execution_count": 19,
   "id": "275bb67b",
   "metadata": {},
   "outputs": [],
   "source": [
    "logi = LogisticRegression(C=1, random_state=42)\n",
    "logi.fit(X_tr_tfidf, y_train)\n",
    "y_pred_train = logi.predict(X_tr_tfidf)\n",
    "y_pred_test = logi.predict(X_te_tfidf)"
   ]
  },
  {
   "cell_type": "code",
   "execution_count": 20,
   "id": "34b20d1e",
   "metadata": {},
   "outputs": [
    {
     "name": "stdout",
     "output_type": "stream",
     "text": [
      "Train accuracy for a Logistic regression is:  0.8134592680047226\n",
      "Test accuracy for a Logistic regression is:  0.6866666666666666\n",
      "Train f1 score for a Logistic regression is:  0.8204545454545453\n",
      "Test f1 score for a Logistic regression is:  0.6887417218543047\n"
     ]
    }
   ],
   "source": [
    "print(\"Train accuracy for a Logistic regression is: \",accuracy_score(y_train, y_pred_train))\n",
    "print(\"Test accuracy for a Logistic regression is: \",accuracy_score(y_test, y_pred_test))\n",
    "print(\"Train f1 score for a Logistic regression is: \",f1_score(y_train, y_pred_train))\n",
    "print(\"Test f1 score for a Logistic regression is: \",f1_score(y_test, y_pred_test))"
   ]
  },
  {
   "cell_type": "markdown",
   "id": "2c47a407",
   "metadata": {},
   "source": [
    "<h2>4.3. SVM</h2>"
   ]
  },
  {
   "cell_type": "code",
   "execution_count": 21,
   "id": "65246800",
   "metadata": {},
   "outputs": [
    {
     "name": "stdout",
     "output_type": "stream",
     "text": [
      "{'C': 0.5}\n"
     ]
    }
   ],
   "source": [
    "# Perform Hyperparameter Tuning.\n",
    "# Plot the training and the CV AUC scores, for different values of 'alpha', using a 2D line plot\n",
    "\n",
    "probs = svm.SVC(random_state=42)\n",
    "\n",
    "parameters = {'C': [ 0.001, 0.05, 0.01, 0.1, 0.5, 1, 5, 10, 50, 100,500,1000]}\n",
    "clf = RandomizedSearchCV(probs, parameters, cv=3, scoring='accuracy',return_train_score=True,random_state=42)\n",
    "clf.fit(X_tr_tfidf, y_train)\n",
    "results = pd.DataFrame.from_dict(clf.cv_results_)\n",
    "\n",
    "print(clf.best_params_)"
   ]
  },
  {
   "cell_type": "code",
   "execution_count": 22,
   "id": "17c25675",
   "metadata": {},
   "outputs": [],
   "source": [
    "sv = svm.SVC(C=0.4,random_state=42)\n",
    "sv.fit(X_tr_tfidf, y_train)\n",
    "y_pred_train = sv.predict(X_tr_tfidf)\n",
    "y_pred_test = sv.predict(X_te_tfidf)"
   ]
  },
  {
   "cell_type": "code",
   "execution_count": 23,
   "id": "0657e433",
   "metadata": {},
   "outputs": [
    {
     "name": "stdout",
     "output_type": "stream",
     "text": [
      "Train accuracy for a Logistic regression is:  0.7804014167650531\n",
      "Test accuracy for a Logistic regression is:  0.7333333333333333\n",
      "Train f1 score for a Logistic regression is:  0.7937915742793793\n",
      "Test f1 score for a Logistic regression is:  0.7435897435897435\n"
     ]
    }
   ],
   "source": [
    "print(\"Train accuracy for a Logistic regression is: \",accuracy_score(y_train, y_pred_train))\n",
    "print(\"Test accuracy for a Logistic regression is: \",accuracy_score(y_test, y_pred_test))\n",
    "print(\"Train f1 score for a Logistic regression is: \",f1_score(y_train, y_pred_train))\n",
    "print(\"Test f1 score for a Logistic regression is: \",f1_score(y_test, y_pred_test))"
   ]
  },
  {
   "cell_type": "markdown",
   "id": "ec343037",
   "metadata": {},
   "source": [
    "<h2>4.4. Random Forrest</h2>"
   ]
  },
  {
   "cell_type": "code",
   "execution_count": 24,
   "id": "cd4c6445",
   "metadata": {},
   "outputs": [
    {
     "name": "stdout",
     "output_type": "stream",
     "text": [
      "{'n_estimators': 50, 'max_depth': 10}\n"
     ]
    }
   ],
   "source": [
    "probs = RandomForestClassifier(random_state=42)\n",
    "\n",
    "parameters = {'n_estimators': [ 1, 5, 10, 50, 100], 'max_depth':[1,3,5,7,10]}\n",
    "clf = RandomizedSearchCV(probs, parameters, cv=3, scoring='accuracy',return_train_score=True,random_state=42)\n",
    "clf.fit(X_tr_tfidf, y_train)\n",
    "\n",
    "results = pd.DataFrame.from_dict(clf.cv_results_)\n",
    "\n",
    "print(clf.best_params_)"
   ]
  },
  {
   "cell_type": "code",
   "execution_count": 25,
   "id": "7557666b",
   "metadata": {
    "scrolled": true
   },
   "outputs": [],
   "source": [
    "rdf = RandomForestClassifier(n_estimators = 50, max_depth= 10, random_state=42)\n",
    "rdf.fit(X_tr_tfidf, y_train)\n",
    "y_pred_train = rdf.predict(X_tr_tfidf)\n",
    "y_pred_test = rdf.predict(X_te_tfidf)"
   ]
  },
  {
   "cell_type": "code",
   "execution_count": 30,
   "id": "93a9a3e8",
   "metadata": {},
   "outputs": [
    {
     "name": "stdout",
     "output_type": "stream",
     "text": [
      "Train accuracy for random forrest is:  0.781582054309327\n",
      "Test accuracy for a random forrest is:  0.72\n",
      "Train f1 score for a random forrest is:  0.7960308710033076\n",
      "Test f1 score for a random forrest is:  0.7236842105263158\n"
     ]
    }
   ],
   "source": [
    "print(\"Train accuracy for random forrest is: \",accuracy_score(y_train, y_pred_train))\n",
    "print(\"Test accuracy for a random forrest is: \",accuracy_score(y_test, y_pred_test))\n",
    "print(\"Train f1 score for a random forrest is: \",f1_score(y_train, y_pred_train))\n",
    "print(\"Test f1 score for a random forrest is: \",f1_score(y_test, y_pred_test))"
   ]
  },
  {
   "cell_type": "code",
   "execution_count": 29,
   "id": "1ca289da",
   "metadata": {},
   "outputs": [
    {
     "name": "stdout",
     "output_type": "stream",
     "text": [
      "+---------------------+----------------+---------------+----------+---------+\n",
      "|        Model        | Train Accuracy | Test Accuracy | Train F1 | Test F1 |\n",
      "+---------------------+----------------+---------------+----------+---------+\n",
      "|     Worst/Random    |      0.47      |      0.50     |   0.47   |   0.52  |\n",
      "| Logistic regression |      0.81      |      0.68     |   0.82   |   0.69  |\n",
      "|         SVM         |      0.78      |      0.73     |   0.79   |   0.74  |\n",
      "|    Random forrest   |      0.78      |      0.72     |   0.80   |   0.72  |\n",
      "+---------------------+----------------+---------------+----------+---------+\n"
     ]
    }
   ],
   "source": [
    "# Specifying the Column Names while initializing the Table\n",
    "myTable = PrettyTable([\"Model\", \"Train Accuracy\", \"Test Accuracy\", \"Train F1\", \"Test F1\"])\n",
    "  \n",
    "# Adding rows\n",
    "myTable.add_row([\"Worst/Random\", \"0.47\", \"0.50\", \"0.47\" , \"0.52\"])\n",
    "myTable.add_row([\"Logistic regression\", \"0.81\", \"0.68\", \"0.82\", \"0.69\"])\n",
    "myTable.add_row([\"SVM\", \"0.78\", \"0.73\", \"0.79\", \"0.74\"])\n",
    "myTable.add_row([\"Random forrest\", \"0.78\", \"0.72\", \"0.80\", \"0.72\"])\n",
    "  \n",
    "print(myTable)"
   ]
  },
  {
   "cell_type": "markdown",
   "id": "5ec50074",
   "metadata": {},
   "source": [
    "#### Summary Points\n",
    "<ol>\n",
    "    <li>From the above table, it can be seen that Best test score and accuracy is from SVM</li>\n",
    "    <li>Train and test accuracy of our best model(SVM) are close indicating model is not overfit</li>\n",
    "    <li>Adding sentiment scores improved performance metrics</li>\n",
    "    <li>Model can be improved with much larger data points</li>\n",
    "</ol>    "
   ]
  }
 ],
 "metadata": {
  "kernelspec": {
   "display_name": "Python 3",
   "language": "python",
   "name": "python3"
  },
  "language_info": {
   "codemirror_mode": {
    "name": "ipython",
    "version": 3
   },
   "file_extension": ".py",
   "mimetype": "text/x-python",
   "name": "python",
   "nbconvert_exporter": "python",
   "pygments_lexer": "ipython3",
   "version": "3.8.8"
  }
 },
 "nbformat": 4,
 "nbformat_minor": 5
}
